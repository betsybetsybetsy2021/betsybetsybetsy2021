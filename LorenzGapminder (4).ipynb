{
 "cells": [
  {
   "cell_type": "code",
   "execution_count": null,
   "id": "e9ee2c4a-c9d8-45c5-886c-464646feb248",
   "metadata": {},
   "outputs": [],
   "source": [
    "# First attempt at Lorenz curve in python. \n",
    "# Tried using (https://zhiyzuo.github.io/Plot-Lorenz/)\n",
    "# as a starting point, but there was an issue as the gini value was not between 0 and 100.\n",
    "# now using Statology, as I don't even have a textbook.  The MBA stats book is TOO simple.  I need to pick\n",
    "# up the calculus books I have on hold.\n",
    "\n"
   ]
  },
  {
   "cell_type": "code",
   "execution_count": 77,
   "id": "7877fa0e-921a-4fb0-adcb-70585e4bb5f7",
   "metadata": {
    "execution": {
     "iopub.execute_input": "2023-08-05T02:16:09.577770Z",
     "iopub.status.busy": "2023-08-05T02:16:09.577398Z",
     "iopub.status.idle": "2023-08-05T02:16:09.583429Z",
     "shell.execute_reply": "2023-08-05T02:16:09.582484Z",
     "shell.execute_reply.started": "2023-08-05T02:16:09.577742Z"
    },
    "tags": []
   },
   "outputs": [],
   "source": [
    "import numpy as np\n",
    "import pandas as pd\n",
    "from matplotlib import pyplot as plt\n",
    "\n",
    "%matplotlib inline"
   ]
  },
  {
   "cell_type": "code",
   "execution_count": 117,
   "id": "3f0d24ef-606a-4881-af22-f59bafb85e96",
   "metadata": {
    "execution": {
     "iopub.execute_input": "2023-08-05T03:06:35.574321Z",
     "iopub.status.busy": "2023-08-05T03:06:35.573809Z",
     "iopub.status.idle": "2023-08-05T03:06:35.614623Z",
     "shell.execute_reply": "2023-08-05T03:06:35.613960Z",
     "shell.execute_reply.started": "2023-08-05T03:06:35.574277Z"
    },
    "tags": []
   },
   "outputs": [],
   "source": [
    "#Open mean household income extended from Gapminder by country (units not specified)\n",
    "df = pd.read_csv('mhhinc.csv', index_col=0)"
   ]
  },
  {
   "cell_type": "code",
   "execution_count": 118,
   "id": "69609d65-8402-4b9f-9828-18f1565ae6b5",
   "metadata": {
    "execution": {
     "iopub.execute_input": "2023-08-05T03:06:43.048850Z",
     "iopub.status.busy": "2023-08-05T03:06:43.048474Z",
     "iopub.status.idle": "2023-08-05T03:06:43.139916Z",
     "shell.execute_reply": "2023-08-05T03:06:43.138912Z",
     "shell.execute_reply.started": "2023-08-05T03:06:43.048823Z"
    },
    "tags": []
   },
   "outputs": [
    {
     "name": "stdout",
     "output_type": "stream",
     "text": [
      "<class 'pandas.core.frame.DataFrame'>\n",
      "Index: 189 entries, Afghanistan to Zimbabwe\n",
      "Columns: 301 entries, 1800 to 2100\n",
      "dtypes: int64(152), object(149)\n",
      "memory usage: 445.9+ KB\n"
     ]
    }
   ],
   "source": [
    "df.info()"
   ]
  },
  {
   "cell_type": "code",
   "execution_count": 119,
   "id": "82e7ae7e-1556-4ecc-b707-c23058630b80",
   "metadata": {
    "execution": {
     "iopub.execute_input": "2023-08-05T03:06:46.576327Z",
     "iopub.status.busy": "2023-08-05T03:06:46.575946Z",
     "iopub.status.idle": "2023-08-05T03:06:46.594030Z",
     "shell.execute_reply": "2023-08-05T03:06:46.593403Z",
     "shell.execute_reply.started": "2023-08-05T03:06:46.576300Z"
    },
    "tags": []
   },
   "outputs": [
    {
     "data": {
      "text/html": [
       "<div>\n",
       "<style scoped>\n",
       "    .dataframe tbody tr th:only-of-type {\n",
       "        vertical-align: middle;\n",
       "    }\n",
       "\n",
       "    .dataframe tbody tr th {\n",
       "        vertical-align: top;\n",
       "    }\n",
       "\n",
       "    .dataframe thead th {\n",
       "        text-align: right;\n",
       "    }\n",
       "</style>\n",
       "<table border=\"1\" class=\"dataframe\">\n",
       "  <thead>\n",
       "    <tr style=\"text-align: right;\">\n",
       "      <th></th>\n",
       "      <th>1800</th>\n",
       "      <th>1801</th>\n",
       "      <th>1802</th>\n",
       "      <th>1803</th>\n",
       "      <th>1804</th>\n",
       "      <th>1805</th>\n",
       "      <th>1806</th>\n",
       "      <th>1807</th>\n",
       "      <th>1808</th>\n",
       "      <th>1809</th>\n",
       "      <th>...</th>\n",
       "      <th>2091</th>\n",
       "      <th>2092</th>\n",
       "      <th>2093</th>\n",
       "      <th>2094</th>\n",
       "      <th>2095</th>\n",
       "      <th>2096</th>\n",
       "      <th>2097</th>\n",
       "      <th>2098</th>\n",
       "      <th>2099</th>\n",
       "      <th>2100</th>\n",
       "    </tr>\n",
       "    <tr>\n",
       "      <th>country</th>\n",
       "      <th></th>\n",
       "      <th></th>\n",
       "      <th></th>\n",
       "      <th></th>\n",
       "      <th></th>\n",
       "      <th></th>\n",
       "      <th></th>\n",
       "      <th></th>\n",
       "      <th></th>\n",
       "      <th></th>\n",
       "      <th></th>\n",
       "      <th></th>\n",
       "      <th></th>\n",
       "      <th></th>\n",
       "      <th></th>\n",
       "      <th></th>\n",
       "      <th></th>\n",
       "      <th></th>\n",
       "      <th></th>\n",
       "      <th></th>\n",
       "      <th></th>\n",
       "    </tr>\n",
       "  </thead>\n",
       "  <tbody>\n",
       "    <tr>\n",
       "      <th>Afghanistan</th>\n",
       "      <td>456</td>\n",
       "      <td>477</td>\n",
       "      <td>499</td>\n",
       "      <td>522</td>\n",
       "      <td>546</td>\n",
       "      <td>571</td>\n",
       "      <td>571</td>\n",
       "      <td>571</td>\n",
       "      <td>571</td>\n",
       "      <td>571</td>\n",
       "      <td>...</td>\n",
       "      <td>8500</td>\n",
       "      <td>8680</td>\n",
       "      <td>8870</td>\n",
       "      <td>9060</td>\n",
       "      <td>9250</td>\n",
       "      <td>9450</td>\n",
       "      <td>9660</td>\n",
       "      <td>9860</td>\n",
       "      <td>10.1k</td>\n",
       "      <td>10.3k</td>\n",
       "    </tr>\n",
       "    <tr>\n",
       "      <th>Angola</th>\n",
       "      <td>150</td>\n",
       "      <td>151</td>\n",
       "      <td>152</td>\n",
       "      <td>153</td>\n",
       "      <td>154</td>\n",
       "      <td>153</td>\n",
       "      <td>154</td>\n",
       "      <td>155</td>\n",
       "      <td>156</td>\n",
       "      <td>157</td>\n",
       "      <td>...</td>\n",
       "      <td>5890</td>\n",
       "      <td>6020</td>\n",
       "      <td>6150</td>\n",
       "      <td>6280</td>\n",
       "      <td>6410</td>\n",
       "      <td>6550</td>\n",
       "      <td>6690</td>\n",
       "      <td>6840</td>\n",
       "      <td>6980</td>\n",
       "      <td>7130</td>\n",
       "    </tr>\n",
       "    <tr>\n",
       "      <th>Albania</th>\n",
       "      <td>332</td>\n",
       "      <td>332</td>\n",
       "      <td>332</td>\n",
       "      <td>332</td>\n",
       "      <td>332</td>\n",
       "      <td>332</td>\n",
       "      <td>332</td>\n",
       "      <td>332</td>\n",
       "      <td>332</td>\n",
       "      <td>332</td>\n",
       "      <td>...</td>\n",
       "      <td>17.2k</td>\n",
       "      <td>17.6k</td>\n",
       "      <td>18k</td>\n",
       "      <td>18.4k</td>\n",
       "      <td>18.8k</td>\n",
       "      <td>19.2k</td>\n",
       "      <td>19.6k</td>\n",
       "      <td>20k</td>\n",
       "      <td>20.4k</td>\n",
       "      <td>20.9k</td>\n",
       "    </tr>\n",
       "    <tr>\n",
       "      <th>UAE</th>\n",
       "      <td>476</td>\n",
       "      <td>500</td>\n",
       "      <td>525</td>\n",
       "      <td>551</td>\n",
       "      <td>578</td>\n",
       "      <td>606</td>\n",
       "      <td>608</td>\n",
       "      <td>610</td>\n",
       "      <td>612</td>\n",
       "      <td>614</td>\n",
       "      <td>...</td>\n",
       "      <td>150k</td>\n",
       "      <td>153k</td>\n",
       "      <td>156k</td>\n",
       "      <td>159k</td>\n",
       "      <td>163k</td>\n",
       "      <td>166k</td>\n",
       "      <td>170k</td>\n",
       "      <td>174k</td>\n",
       "      <td>177k</td>\n",
       "      <td>181k</td>\n",
       "    </tr>\n",
       "    <tr>\n",
       "      <th>Argentina</th>\n",
       "      <td>714</td>\n",
       "      <td>747</td>\n",
       "      <td>781</td>\n",
       "      <td>817</td>\n",
       "      <td>854</td>\n",
       "      <td>893</td>\n",
       "      <td>893</td>\n",
       "      <td>893</td>\n",
       "      <td>893</td>\n",
       "      <td>893</td>\n",
       "      <td>...</td>\n",
       "      <td>52.4k</td>\n",
       "      <td>53.6k</td>\n",
       "      <td>54.7k</td>\n",
       "      <td>55.9k</td>\n",
       "      <td>57.1k</td>\n",
       "      <td>58.3k</td>\n",
       "      <td>59.6k</td>\n",
       "      <td>60.9k</td>\n",
       "      <td>62.2k</td>\n",
       "      <td>63.5k</td>\n",
       "    </tr>\n",
       "  </tbody>\n",
       "</table>\n",
       "<p>5 rows × 301 columns</p>\n",
       "</div>"
      ],
      "text/plain": [
       "             1800  1801  1802  1803  1804  1805  1806  1807  1808  1809  ...  \\\n",
       "country                                                                  ...   \n",
       "Afghanistan   456   477   499   522   546   571   571   571   571   571  ...   \n",
       "Angola        150   151   152   153   154   153   154   155   156   157  ...   \n",
       "Albania       332   332   332   332   332   332   332   332   332   332  ...   \n",
       "UAE           476   500   525   551   578   606   608   610   612   614  ...   \n",
       "Argentina     714   747   781   817   854   893   893   893   893   893  ...   \n",
       "\n",
       "              2091   2092   2093   2094   2095   2096   2097   2098   2099  \\\n",
       "country                                                                      \n",
       "Afghanistan   8500   8680   8870   9060   9250   9450   9660   9860  10.1k   \n",
       "Angola        5890   6020   6150   6280   6410   6550   6690   6840   6980   \n",
       "Albania      17.2k  17.6k    18k  18.4k  18.8k  19.2k  19.6k    20k  20.4k   \n",
       "UAE           150k   153k   156k   159k   163k   166k   170k   174k   177k   \n",
       "Argentina    52.4k  53.6k  54.7k  55.9k  57.1k  58.3k  59.6k  60.9k  62.2k   \n",
       "\n",
       "              2100  \n",
       "country             \n",
       "Afghanistan  10.3k  \n",
       "Angola        7130  \n",
       "Albania      20.9k  \n",
       "UAE           181k  \n",
       "Argentina    63.5k  \n",
       "\n",
       "[5 rows x 301 columns]"
      ]
     },
     "execution_count": 119,
     "metadata": {},
     "output_type": "execute_result"
    }
   ],
   "source": [
    "df.head()\n",
    "# Is this projected data, because it goes beyond current year?\n",
    "# This is not the right dataset, \n",
    "# but I could answer a similar question of how inequal the countries of the world are from this dataset\n",
    "#\n",
    "#  You were supposed to clear the things I wasn't not match me to them. \n",
    "# there is another person by the same name where I stay... will you give her the bed and then let them say \n",
    "# they housed me and then withdraw funding for the tents?  Will I not even get a tent to live in?"
   ]
  },
  {
   "cell_type": "code",
   "execution_count": 120,
   "id": "9ed1e4a7-619d-4a3b-8bd6-d5199b82c799",
   "metadata": {
    "execution": {
     "iopub.execute_input": "2023-08-05T03:07:50.543274Z",
     "iopub.status.busy": "2023-08-05T03:07:50.542900Z",
     "iopub.status.idle": "2023-08-05T03:07:50.550388Z",
     "shell.execute_reply": "2023-08-05T03:07:50.549480Z",
     "shell.execute_reply.started": "2023-08-05T03:07:50.543247Z"
    },
    "tags": []
   },
   "outputs": [
    {
     "data": {
      "text/plain": [
       "country\n",
       "Gabon             58\n",
       "Eswatini          58\n",
       "Qatar            116\n",
       "Botswana         116\n",
       "Turkmenistan     120\n",
       "                ... \n",
       "USA             1720\n",
       "Netherlands     1840\n",
       "UK              2090\n",
       "Palestine       2150\n",
       "Uruguay         2250\n",
       "Name: 1850, Length: 189, dtype: int64"
      ]
     },
     "execution_count": 120,
     "metadata": {},
     "output_type": "execute_result"
    }
   ],
   "source": [
    "# Select column for array\n",
    "A = df[\"1850\"];\n",
    "A.sort_values()\n"
   ]
  },
  {
   "cell_type": "code",
   "execution_count": 82,
   "id": "3c01d143-8da8-4a62-9a5d-64a1d46992c7",
   "metadata": {
    "execution": {
     "iopub.execute_input": "2023-08-05T02:16:30.345296Z",
     "iopub.status.busy": "2023-08-05T02:16:30.344917Z",
     "iopub.status.idle": "2023-08-05T02:16:30.349876Z",
     "shell.execute_reply": "2023-08-05T02:16:30.348905Z",
     "shell.execute_reply.started": "2023-08-05T02:16:30.345268Z"
    },
    "tags": []
   },
   "outputs": [
    {
     "name": "stdout",
     "output_type": "stream",
     "text": [
      "189\n"
     ]
    }
   ],
   "source": [
    "n = len(A);\n",
    "print(n)"
   ]
  },
  {
   "cell_type": "code",
   "execution_count": 107,
   "id": "8a5ac11e-4e08-446d-995d-d6536250ea76",
   "metadata": {
    "execution": {
     "iopub.execute_input": "2023-08-05T02:58:12.965746Z",
     "iopub.status.busy": "2023-08-05T02:58:12.965377Z",
     "iopub.status.idle": "2023-08-05T02:58:12.971050Z",
     "shell.execute_reply": "2023-08-05T02:58:12.970150Z",
     "shell.execute_reply.started": "2023-08-05T02:58:12.965719Z"
    }
   },
   "outputs": [
    {
     "data": {
      "text/plain": [
       "571.074074074074"
      ]
     },
     "execution_count": 107,
     "metadata": {},
     "output_type": "execute_result"
    }
   ],
   "source": [
    "# If this were perfect equality, you would expect the mean and median to be closer to 1000 \n",
    "# (min is 58, max is 2250)\n",
    "# Since both are lower, you know that inequality exist between countries\n",
    "A.mean()"
   ]
  },
  {
   "cell_type": "code",
   "execution_count": 108,
   "id": "2c0061ba-0a4c-4110-b383-2ba22b447adc",
   "metadata": {
    "execution": {
     "iopub.execute_input": "2023-08-05T02:58:42.050654Z",
     "iopub.status.busy": "2023-08-05T02:58:42.050284Z",
     "iopub.status.idle": "2023-08-05T02:58:42.057986Z",
     "shell.execute_reply": "2023-08-05T02:58:42.057090Z",
     "shell.execute_reply.started": "2023-08-05T02:58:42.050626Z"
    }
   },
   "outputs": [
    {
     "data": {
      "text/plain": [
       "488.0"
      ]
     },
     "execution_count": 108,
     "metadata": {},
     "output_type": "execute_result"
    }
   ],
   "source": [
    "A.median()"
   ]
  },
  {
   "cell_type": "code",
   "execution_count": 121,
   "id": "14af5de1-53a9-4dd9-bcf8-550460aba78c",
   "metadata": {
    "execution": {
     "iopub.execute_input": "2023-08-05T03:10:27.864573Z",
     "iopub.status.busy": "2023-08-05T03:10:27.864206Z",
     "iopub.status.idle": "2023-08-05T03:10:27.869829Z",
     "shell.execute_reply": "2023-08-05T03:10:27.869030Z",
     "shell.execute_reply.started": "2023-08-05T03:10:27.864546Z"
    },
    "tags": []
   },
   "outputs": [],
   "source": [
    "# From statology (still need to understand this but it is NOT in the MBA stats book which thinks this work\n",
    "# is for other people.  I would rather learn to do this work properly than be a boss.\n",
    "# define function to calculate Gini coefficient\n",
    "def gini(x):\n",
    "    total = 0\n",
    "    for i, xi in enumerate(x[:-1], 1):\n",
    "        total += np.sum(np.abs(xi - x[i:]))\n",
    "    return total / (len(x)**2 * np.mean(x))"
   ]
  },
  {
   "cell_type": "code",
   "execution_count": 122,
   "id": "87db161f-c027-4559-87a3-13c581eebef6",
   "metadata": {
    "execution": {
     "iopub.execute_input": "2023-08-05T03:10:30.599021Z",
     "iopub.status.busy": "2023-08-05T03:10:30.598655Z",
     "iopub.status.idle": "2023-08-05T03:10:30.646339Z",
     "shell.execute_reply": "2023-08-05T03:10:30.645527Z",
     "shell.execute_reply.started": "2023-08-05T03:10:30.598994Z"
    },
    "tags": []
   },
   "outputs": [
    {
     "data": {
      "text/plain": [
       "0.3454683845852442"
      ]
     },
     "execution_count": 122,
     "metadata": {},
     "output_type": "execute_result"
    }
   ],
   "source": [
    "# These yields a reasonable number\n",
    "gini(A)"
   ]
  },
  {
   "cell_type": "code",
   "execution_count": 112,
   "id": "9688c6b5-fe04-44e3-817d-b7ac2cf824b4",
   "metadata": {
    "execution": {
     "iopub.execute_input": "2023-08-05T03:02:32.366776Z",
     "iopub.status.busy": "2023-08-05T03:02:32.366403Z",
     "iopub.status.idle": "2023-08-05T03:02:32.372964Z",
     "shell.execute_reply": "2023-08-05T03:02:32.372154Z",
     "shell.execute_reply.started": "2023-08-05T03:02:32.366749Z"
    },
    "tags": []
   },
   "outputs": [
    {
     "name": "stdout",
     "output_type": "stream",
     "text": [
      "[1 2 3 4 5 6]\n"
     ]
    },
    {
     "data": {
      "text/plain": [
       "array([ 1,  3,  6, 10, 15, 21])"
      ]
     },
     "execution_count": 112,
     "metadata": {},
     "output_type": "execute_result"
    }
   ],
   "source": [
    "# Just learning how this .cumsum works\n",
    "# Return the cumulative sum of the elements along a given axis.\n",
    "a = np.array([1,2,3,4,5,6])\n",
    "print(a)\n",
    "\n",
    "np.cumsum(a)"
   ]
  },
  {
   "cell_type": "code",
   "execution_count": 113,
   "id": "db9f15a1-3954-4bc1-9b66-6d66e950d497",
   "metadata": {
    "execution": {
     "iopub.execute_input": "2023-08-05T03:02:42.676110Z",
     "iopub.status.busy": "2023-08-05T03:02:42.675676Z",
     "iopub.status.idle": "2023-08-05T03:02:42.680103Z",
     "shell.execute_reply": "2023-08-05T03:02:42.679186Z",
     "shell.execute_reply.started": "2023-08-05T03:02:42.676082Z"
    },
    "tags": []
   },
   "outputs": [],
   "source": [
    "#get the values into a list so I can make a usable array\n",
    "list_values = df[\"1850\"].tolist()\n",
    "arr = np.array(list_values)"
   ]
  },
  {
   "cell_type": "code",
   "execution_count": 114,
   "id": "53b5f2d2-d6c6-4cdc-8ef9-1da30325fa29",
   "metadata": {
    "execution": {
     "iopub.execute_input": "2023-08-05T03:02:44.276001Z",
     "iopub.status.busy": "2023-08-05T03:02:44.275366Z",
     "iopub.status.idle": "2023-08-05T03:02:44.283166Z",
     "shell.execute_reply": "2023-08-05T03:02:44.282008Z",
     "shell.execute_reply.started": "2023-08-05T03:02:44.275970Z"
    },
    "tags": []
   },
   "outputs": [
    {
     "name": "stdout",
     "output_type": "stream",
     "text": [
      "[ 633  186  356  717 1370  482  650 1680 1350  569  204 1470  376  289\n",
      "  694 1050  409 1050  522  330  450  812  312  667  126  227  116  255\n",
      " 1230 1540  755  371  961  350  308  151  495 1480  412  203  877  343\n",
      "  842 1080  661  594 1160  211  244  195  259 1580  621  515  737  622\n",
      "  312  942  383   58 2090  663  398  121  387  703  225  748  843  279\n",
      "  708  595  563  657  607  665  190  612  625  342  190  577  345 1020\n",
      "  393  544  451  570 1110  277  778  562  874  263  326  623  719  861\n",
      "  811  125  429  210  466  612  606  438  600  332  225  371  317  207\n",
      "  563  342  537  245  411  247  326  549  550  338  366  304  941 1840\n",
      "  537  379 1050  191  268  542  435  404  126  311  693  445  640 1030\n",
      " 2150  116  488  175  345  184  300  241  751  287  493  713  466  916\n",
      "  185  529  532  874  583  651   58  369  529  288  605  513  453  120\n",
      "  365  578  619  334  486  744  256  277  207 2250 1720  401  692  235\n",
      "  466  391  979  566  396  368  982]\n"
     ]
    }
   ],
   "source": [
    "print(arr)"
   ]
  },
  {
   "cell_type": "code",
   "execution_count": 115,
   "id": "38ad5462-cee0-47ce-8b11-4ed4d804e7fc",
   "metadata": {
    "execution": {
     "iopub.execute_input": "2023-08-05T03:03:00.567230Z",
     "iopub.status.busy": "2023-08-05T03:03:00.566839Z",
     "iopub.status.idle": "2023-08-05T03:03:00.573491Z",
     "shell.execute_reply": "2023-08-05T03:03:00.572617Z",
     "shell.execute_reply.started": "2023-08-05T03:03:00.567201Z"
    },
    "tags": []
   },
   "outputs": [
    {
     "name": "stdout",
     "output_type": "stream",
     "text": [
      "[0.00586475 0.00758804 0.01088638 0.01752939 0.03022245 0.03468819\n",
      " 0.04071044 0.05627565 0.06878341 0.0740552  0.07594526 0.08956482\n",
      " 0.09304847 0.09572605 0.10215597 0.11188422 0.11567361 0.12540187\n",
      " 0.1302382  0.13329566 0.13746491 0.14498809 0.14787878 0.15405854\n",
      " 0.15522593 0.15732908 0.15840382 0.1607664  0.17216236 0.18643047\n",
      " 0.19342555 0.19686287 0.20576654 0.20900929 0.21186291 0.21326193\n",
      " 0.21784811 0.23156032 0.2353775  0.2372583  0.24538371 0.24856161\n",
      " 0.25636274 0.26636895 0.27249312 0.27799653 0.28874394 0.29069886\n",
      " 0.29295952 0.2947662  0.29716583 0.31180455 0.31755811 0.32232959\n",
      " 0.3291579  0.33492074 0.33781142 0.34653906 0.35008755 0.35062492\n",
      " 0.36998879 0.37613149 0.37981896 0.38094003 0.38452559 0.39103889\n",
      " 0.39312351 0.40005374 0.40786414 0.41044907 0.4170087  0.42252138\n",
      " 0.42773758 0.43382469 0.43944855 0.44560978 0.44737013 0.45304031\n",
      " 0.45883094 0.46199957 0.46375993 0.46910583 0.47230226 0.48175257\n",
      " 0.48539372 0.49043388 0.4946124  0.49989345 0.51017761 0.51274402\n",
      " 0.51995219 0.52515913 0.53325674 0.53569344 0.53871383 0.54448593\n",
      " 0.55114747 0.55912464 0.56663856 0.56779669 0.57177138 0.57371703\n",
      " 0.57803452 0.58370471 0.5893193  0.59337737 0.59893638 0.60201236\n",
      " 0.60409699 0.6075343  0.61047131 0.61238917 0.61760537 0.620774\n",
      " 0.62574931 0.62801923 0.63182715 0.63411561 0.637136   0.64222249\n",
      " 0.64731824 0.65044982 0.65384081 0.65665737 0.66537574 0.68242336\n",
      " 0.68739866 0.6909101  0.70063836 0.70240798 0.704891   0.70991263\n",
      " 0.71394291 0.71768597 0.71885336 0.72173478 0.72815543 0.73227836\n",
      " 0.73820796 0.74775092 0.76767068 0.76874543 0.77326675 0.77488813\n",
      " 0.77808455 0.77978931 0.78256882 0.78480168 0.7917597  0.79441876\n",
      " 0.79898641 0.80559236 0.80990985 0.8183966  0.82011062 0.82501181\n",
      " 0.8299408  0.83803841 0.84343991 0.84947143 0.8500088  0.85342759\n",
      " 0.85832878 0.8609971  0.86660243 0.87135538 0.87555243 0.87666423\n",
      " 0.88004595 0.88540113 0.89113617 0.89423068 0.89873347 0.90562664\n",
      " 0.90799848 0.91056489 0.91248274 0.93332901 0.94926482 0.95298009\n",
      " 0.95939147 0.96156875 0.96588624 0.96950886 0.9785793  0.9838233\n",
      " 0.98749224 0.99090176 1.        ]\n"
     ]
    }
   ],
   "source": [
    "\n",
    "print(arr.cumsum() / arr.sum())"
   ]
  },
  {
   "cell_type": "code",
   "execution_count": 130,
   "id": "f567e24c-92d0-4974-bf81-84ae002db8ef",
   "metadata": {
    "execution": {
     "iopub.execute_input": "2023-08-05T03:16:29.225880Z",
     "iopub.status.busy": "2023-08-05T03:16:29.225497Z",
     "iopub.status.idle": "2023-08-05T03:16:29.341286Z",
     "shell.execute_reply": "2023-08-05T03:16:29.340371Z",
     "shell.execute_reply.started": "2023-08-05T03:16:29.225852Z"
    },
    "tags": []
   },
   "outputs": [
    {
     "data": {
      "image/png": "[encoded data removed]",
      "text/plain": [
       "<Figure size 640x480 with 1 Axes>"
      ]
     },
     "metadata": {},
     "output_type": "display_data"
    }
   ],
   "source": [
    "# Modified example giving not quite right results, although it does plot the numbers above.  This should be\n",
    "# a standard looking Lorenz curve.\n",
    "\n",
    "# I would need a stats textbook to build this myself, this came from CNCDragonKai.  I'm trying to build something\n",
    "# functional, from what already exists.  I don't have even the textbooks, and I don't have Indian friends\n",
    "# to buy cheaper textbooks for me.\n",
    "# I don't understand the cumsum on a vector array, although I can see that all values are between 0 and 1\n",
    "\n",
    "def lorenz(arr):\n",
    "    # this divides the prefix sum by the total sum\n",
    "    # this ensures all the values are between 0 and 1.0\n",
    "    scaled_prefix_sum = arr.cumsum() / arr.sum()\n",
    "    # this prepends the 0 value (because 0% of all people have 0% of all wealth)\n",
    "    return np.insert(scaled_prefix_sum, 0, 0)\n",
    "\n",
    "lorenz_curve = lorenz(arr)\n",
    "\n",
    "# we need the X values to be between 0.0 to 1.0\n",
    "plt.plot(np.linspace(0.0, 1.0, lorenz_curve.size), lorenz_curve, color = '#FF007F')\n",
    "# plot the straight line perfect equality curve\n",
    "plt.plot([0,1], [0,1], color = 'black')\n",
    "plt.show()\n",
    "\n",
    "# Well this doesn't look right either. "
   ]
  },
  {
   "cell_type": "code",
   "execution_count": null,
   "id": "043327fc-14f4-4046-9ef2-5c563a1c41b1",
   "metadata": {},
   "outputs": [],
   "source": [
    "------------- EVERYTHING BELOW HERE IS SCRATCHPAD -------------"
   ]
  },
  {
   "cell_type": "code",
   "execution_count": null,
   "id": "94cc49ab-75a7-4b40-a48b-21eea50f09d3",
   "metadata": {},
   "outputs": [],
   "source": [
    "# I am loud and desperate because I AM desperate.\n",
    "# I need my family.  My family is alive, doesn't hate me, and probably thinks I am dead or something.\n",
    "# I used to get a birthday card every year from my dad with just a signature but you only let me \n",
    "# have deep fakes since 2014. I am tired of PoW shit, of military saying I am not enough, but never releasing\n",
    "# me either.  I do not want to work for you SECDEF Austin. Find a way to get me home.\n",
    "# How do you expect me to survive only on the love of the Home Depot?!?!? Since 2014, my life IS \n",
    "#vpsychological torture EVERY DAY. I know people are cruel just to isolate me, but do they\n",
    "# even know why they are doing it?  probably not?  They just get paid and that is all they think about."
   ]
  },
  {
   "cell_type": "code",
   "execution_count": 89,
   "id": "87b13858-ad08-40a7-b5c6-ad15f50c4c1e",
   "metadata": {
    "execution": {
     "iopub.execute_input": "2023-08-05T02:17:02.407697Z",
     "iopub.status.busy": "2023-08-05T02:17:02.407319Z",
     "iopub.status.idle": "2023-08-05T02:17:02.413498Z",
     "shell.execute_reply": "2023-08-05T02:17:02.412652Z",
     "shell.execute_reply.started": "2023-08-05T02:17:02.407670Z"
    },
    "tags": []
   },
   "outputs": [],
   "source": [
    "# Gini function passed pre-sorted series (not sure why the sorting would be necessary anyway)\n",
    "# This is from zhiyzuo but there is an error in the code as this should yield a value between 0 and 100\n",
    "# This isn't for any particular school, this is for developing knowledge \n",
    "# and demonstrating capability. I am clearly not passing off other people's work\n",
    "# as my own, but I am building from it.\n",
    "\n",
    "# I think issues with indexing, since it is a series instead of an array, but statology version seems to work\n",
    "\n",
    "def gini(x):\n",
    "    n = len(x)\n",
    "    coef_ = 2. / n\n",
    "    const_ = (n + 1.) / n\n",
    "    weighted_sum = sum([(i+1)*yi for i, yi in enumerate(x)]) \n",
    "    print ('n: ' + str(n))\n",
    "    print ('coef_: ' + str(coef_))\n",
    "    print('const_:' + str(const_))\n",
    "    print(weighted_sum)\n",
    "    print(coef_*x.sum()/x.sum())\n",
    "    print(coef_*weighted_sum/(x.sum()) - const_)\n",
    "    return coef_*weighted_sum/(x.sum()) - const_\n",
    "    "
   ]
  },
  {
   "cell_type": "code",
   "execution_count": 57,
   "id": "7103c076-c678-46b1-a859-941bbe36eb89",
   "metadata": {
    "execution": {
     "iopub.execute_input": "2023-08-05T01:13:46.650511Z",
     "iopub.status.busy": "2023-08-05T01:13:46.650139Z",
     "iopub.status.idle": "2023-08-05T01:13:46.661758Z",
     "shell.execute_reply": "2023-08-05T01:13:46.661007Z",
     "shell.execute_reply.started": "2023-08-05T01:13:46.650483Z"
    },
    "tags": []
   },
   "outputs": [
    {
     "name": "stdout",
     "output_type": "stream",
     "text": [
      "n: 189\n",
      "coef_: 0.010582010582010581\n",
      "const_:1.0052910052910053\n",
      "9864784\n",
      "0.010582010582010581\n",
      "-0.038123886085121406\n"
     ]
    },
    {
     "data": {
      "text/plain": [
       "-0.038123886085121406"
      ]
     },
     "execution_count": 57,
     "metadata": {},
     "output_type": "execute_result"
    }
   ],
   "source": [
    "gini(A)"
   ]
  },
  {
   "cell_type": "code",
   "execution_count": 103,
   "id": "a229e9f4-c9eb-42d7-adae-e0ac358fb773",
   "metadata": {
    "execution": {
     "iopub.execute_input": "2023-08-05T02:54:00.414422Z",
     "iopub.status.busy": "2023-08-05T02:54:00.414045Z",
     "iopub.status.idle": "2023-08-05T02:54:00.419222Z",
     "shell.execute_reply": "2023-08-05T02:54:00.418344Z",
     "shell.execute_reply.started": "2023-08-05T02:54:00.414395Z"
    },
    "tags": []
   },
   "outputs": [],
   "source": [
    "# Finding gini coefficient (Area between curve and line of equality / area under line of equality)\n",
    "# function from zhiyzuo isn't working, but provides framework\n",
    "def gini(arr):\n",
    "    ## first sort\n",
    "    #sorted_arr = arr.copy() # I have already sorted\n",
    "    #sorted_arr.sort()\n",
    "    n = arr.size\n",
    "    coef_ = 2. / n\n",
    "    const_ = (n + 1.) / n\n",
    "    weighted_sum = sum([(i+1)*yi for i, yi in enumerate(arr)])\n",
    "    return coef_*weighted_sum/(arr.sum()) - const_"
   ]
  },
  {
   "cell_type": "code",
   "execution_count": 104,
   "id": "5be62685-6eca-45c7-bc2c-5753c56eb429",
   "metadata": {
    "execution": {
     "iopub.execute_input": "2023-08-05T02:54:03.412495Z",
     "iopub.status.busy": "2023-08-05T02:54:03.412115Z",
     "iopub.status.idle": "2023-08-05T02:54:03.418259Z",
     "shell.execute_reply": "2023-08-05T02:54:03.417240Z",
     "shell.execute_reply.started": "2023-08-05T02:54:03.412466Z"
    },
    "tags": []
   },
   "outputs": [
    {
     "data": {
      "text/plain": [
       "-0.038123886085121406"
      ]
     },
     "execution_count": 104,
     "metadata": {},
     "output_type": "execute_result"
    }
   ],
   "source": [
    "gini(A)"
   ]
  },
  {
   "cell_type": "code",
   "execution_count": 6,
   "id": "c5ca6dda-b555-46bb-9a3c-125d640bd50b",
   "metadata": {
    "execution": {
     "iopub.execute_input": "2023-08-04T23:59:43.013483Z",
     "iopub.status.busy": "2023-08-04T23:59:43.013095Z",
     "iopub.status.idle": "2023-08-04T23:59:43.169257Z",
     "shell.execute_reply": "2023-08-04T23:59:43.168429Z",
     "shell.execute_reply.started": "2023-08-04T23:59:43.013458Z"
    },
    "tags": []
   },
   "outputs": [
    {
     "data": {
      "text/plain": [
       "[<matplotlib.lines.Line2D at 0x7fbe80d26700>]"
      ]
     },
     "execution_count": 6,
     "metadata": {},
     "output_type": "execute_result"
    },
    {
     "data": {
      "image/png": "[encoded data removed]",
      "text/plain": [
       "<Figure size 600x600 with 1 Axes>"
      ]
     },
     "metadata": {},
     "output_type": "display_data"
    }
   ],
   "source": [
    "#plot basics from zhiyzuo\n",
    "fig, ax = plt.subplots(figsize=[6,6])\n",
    "## scatter plot of Lorenz curve\n",
    "#ax.scatter(np.arange(X_lorenz.size)/(X_lorenz.size-1), X_lorenz, \n",
    "#           marker='x', color='darkgreen', s=100)\n",
    "## line plot of equality\n",
    "ax.plot([0,1], [0,1], color='k')"
   ]
  },
  {
   "cell_type": "code",
   "execution_count": 12,
   "id": "32069065-a2e4-4051-9ea4-f04238d7417d",
   "metadata": {
    "execution": {
     "iopub.execute_input": "2023-08-04T23:19:31.968414Z",
     "iopub.status.busy": "2023-08-04T23:19:31.968033Z",
     "iopub.status.idle": "2023-08-04T23:19:31.972070Z",
     "shell.execute_reply": "2023-08-04T23:19:31.971186Z",
     "shell.execute_reply.started": "2023-08-04T23:19:31.968385Z"
    }
   },
   "outputs": [],
   "source": [
    "# This would be great to have a Lorenz curve that changed with the years, with Michele Vallisneri's slider\n",
    "# going to find his slider code now...\n",
    "# interact(plotyear, year=widgets.IntSlider(min=1800, max=2100)\n",
    "\n",
    "#Jupyter Labs Slider Widget Interact"
   ]
  },
  {
   "cell_type": "code",
   "execution_count": 17,
   "id": "fea9b37e-1a69-4b52-830f-0880922dafbc",
   "metadata": {
    "execution": {
     "iopub.execute_input": "2023-08-04T23:35:13.964107Z",
     "iopub.status.busy": "2023-08-04T23:35:13.962623Z",
     "iopub.status.idle": "2023-08-04T23:35:13.971305Z",
     "shell.execute_reply": "2023-08-04T23:35:13.970333Z",
     "shell.execute_reply.started": "2023-08-04T23:35:13.964051Z"
    },
    "tags": []
   },
   "outputs": [],
   "source": [
    "#ipywidgetsversion=7.5.1\n",
    "#conda install jupyterlab=$labversion  -y -c conda-forge\n",
    "#conda install nodejs=$nodejsversion -c conda-forge -y"
   ]
  },
  {
   "cell_type": "code",
   "execution_count": 9,
   "id": "3c9d0eb7-2101-4bd3-90cb-7b61b4a09e4a",
   "metadata": {
    "execution": {
     "iopub.execute_input": "2023-08-04T23:11:41.925100Z",
     "iopub.status.busy": "2023-08-04T23:11:41.924709Z",
     "iopub.status.idle": "2023-08-04T23:11:42.019660Z",
     "shell.execute_reply": "2023-08-04T23:11:42.018992Z",
     "shell.execute_reply.started": "2023-08-04T23:11:41.925073Z"
    }
   },
   "outputs": [],
   "source": [
    "from ipywidgets import interact, interactive, fixed, interact_manual\n",
    "import ipywidgets as widgets"
   ]
  },
  {
   "cell_type": "code",
   "execution_count": 10,
   "id": "399111f0-db3c-41a0-a95c-59ee0523d331",
   "metadata": {
    "execution": {
     "iopub.execute_input": "2023-08-04T23:12:51.061696Z",
     "iopub.status.busy": "2023-08-04T23:12:51.061329Z",
     "iopub.status.idle": "2023-08-04T23:12:51.065759Z",
     "shell.execute_reply": "2023-08-04T23:12:51.064930Z",
     "shell.execute_reply.started": "2023-08-04T23:12:51.061670Z"
    }
   },
   "outputs": [],
   "source": [
    "def f(x):\n",
    "    return x"
   ]
  },
  {
   "cell_type": "code",
   "execution_count": 18,
   "id": "0a8e367d-2e23-4402-8f0f-58ffd45e18f7",
   "metadata": {
    "execution": {
     "iopub.execute_input": "2023-08-04T23:38:44.119222Z",
     "iopub.status.busy": "2023-08-04T23:38:44.118843Z",
     "iopub.status.idle": "2023-08-04T23:38:44.141636Z",
     "shell.execute_reply": "2023-08-04T23:38:44.140877Z",
     "shell.execute_reply.started": "2023-08-04T23:38:44.119193Z"
    },
    "tags": []
   },
   "outputs": [
    {
     "data": {
      "application/vnd.jupyter.widget-view+json": {
       "model_id": "f3449381e39a42f7bdd06a0062363be9",
       "version_major": 2,
       "version_minor": 0
      },
      "text/plain": [
       "interactive(children=(IntSlider(value=10, description='x', max=30, min=-10), Output()), _dom_classes=('widget-…"
      ]
     },
     "metadata": {},
     "output_type": "display_data"
    }
   ],
   "source": [
    "interact(f, x=10);"
   ]
  },
  {
   "cell_type": "code",
   "execution_count": null,
   "id": "0c868f31-d47d-4bee-b336-7ac8101777ba",
   "metadata": {},
   "outputs": [],
   "source": [
    "# Check online Saturn Cloud versions\n",
    "# Python 3.9.15"
   ]
  },
  {
   "cell_type": "code",
   "execution_count": 16,
   "id": "29e8dfe8-eeb0-47d5-8c12-f1aff1589ba2",
   "metadata": {
    "execution": {
     "iopub.execute_input": "2023-08-04T23:32:09.190743Z",
     "iopub.status.busy": "2023-08-04T23:32:09.190367Z",
     "iopub.status.idle": "2023-08-04T23:32:10.223950Z",
     "shell.execute_reply": "2023-08-04T23:32:10.223041Z",
     "shell.execute_reply.started": "2023-08-04T23:32:09.190715Z"
    }
   },
   "outputs": [
    {
     "name": "stdout",
     "output_type": "stream",
     "text": [
      "Known nbextensions:\n",
      "  config dir: /opt/saturncloud/envs/saturn/etc/jupyter/nbconfig\n",
      "    notebook section\n",
      "      voila/extension \u001b[32m enabled \u001b[0m\n",
      "      - Validating: \u001b[32mOK\u001b[0m\n",
      "      jupyter-js-widgets/extension \u001b[32m enabled \u001b[0m\n",
      "      - Validating: \u001b[32mOK\u001b[0m\n"
     ]
    }
   ],
   "source": [
    "!jupyter nbextension list"
   ]
  },
  {
   "cell_type": "code",
   "execution_count": null,
   "id": "170410a9-b121-4508-9aed-224a575b4f37",
   "metadata": {},
   "outputs": [],
   "source": [
    "#from CMCdragonkai\n",
    "\n",
    "# ensure your arr is sorted from lowest to highest values first!\n",
    "arr = np.array([1,4,6,9,100])\n",
    "\n",
    "def gini(arr):\n",
    "    count = arr.size\n",
    "    coefficient = 2 / count\n",
    "    indexes = np.arange(1, count + 1)\n",
    "    weighted_sum = (indexes * arr).sum()\n",
    "    total = arr.sum()\n",
    "    constant = (count + 1) / count\n",
    "    return coefficient * weighted_sum / total - constant\n",
    "\n",
    "def lorenz(arr):\n",
    "    # this divides the prefix sum by the total sum\n",
    "    # this ensures all the values are between 0 and 1.0\n",
    "    scaled_prefix_sum = arr.cumsum() / arr.sum()\n",
    "    # this prepends the 0 value (because 0% of all people have 0% of all wealth)\n",
    "    return np.insert(scaled_prefix_sum, 0, 0)\n",
    "\n",
    "# show the gini index!\n",
    "print(gini(arr))\n",
    "\n",
    "lorenz_curve = lorenz(arr)\n",
    "\n",
    "# we need the X values to be between 0.0 to 1.0\n",
    "plt.plot(np.linspace(0.0, 1.0, lorenz_curve.size), lorenz_curve)\n",
    "# plot the straight line perfect equality curve\n",
    "plt.plot([0,1], [0,1])\n",
    "plt.show()"
   ]
  }
 ],
 "metadata": {
  "kernelspec": {
   "display_name": "saturn (Python 3)",
   "language": "python",
   "name": "python3"
  },
  "language_info": {
   "codemirror_mode": {
    "name": "ipython",
    "version": 3
   },
   "file_extension": ".py",
   "mimetype": "text/x-python",
   "name": "python",
   "nbconvert_exporter": "python",
   "pygments_lexer": "ipython3",
   "version": "3.9.15"
  }
 },
 "nbformat": 4,
 "nbformat_minor": 5
}
