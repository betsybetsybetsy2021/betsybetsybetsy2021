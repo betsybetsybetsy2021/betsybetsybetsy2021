{
 "cells": [
  {
   "cell_type": "code",
   "execution_count": null,
   "id": "e9ee2c4a-c9d8-45c5-886c-464646feb248",
   "metadata": {},
   "outputs": [],
   "source": [
    "# First attempt at Lorenz curve in python. Using (https://zhiyzuo.github.io/Plot-Lorenz/)\n",
    "# as a starting point, hoping to change random skewed dataset to use Gapminder dataset.\n"
   ]
  },
  {
   "cell_type": "code",
   "execution_count": 2,
   "id": "7877fa0e-921a-4fb0-adcb-70585e4bb5f7",
   "metadata": {
    "execution": {
     "iopub.execute_input": "2023-08-04T23:59:29.004244Z",
     "iopub.status.busy": "2023-08-04T23:59:29.003871Z",
     "iopub.status.idle": "2023-08-04T23:59:31.464038Z",
     "shell.execute_reply": "2023-08-04T23:59:31.463255Z",
     "shell.execute_reply.started": "2023-08-04T23:59:29.004218Z"
    },
    "tags": []
   },
   "outputs": [],
   "source": [
    "import numpy as np\n",
    "import pandas as pd\n",
    "from matplotlib import pyplot as plt\n",
    "\n",
    "%matplotlib inline"
   ]
  },
  {
   "cell_type": "code",
   "execution_count": 3,
   "id": "3f0d24ef-606a-4881-af22-f59bafb85e96",
   "metadata": {
    "execution": {
     "iopub.execute_input": "2023-08-04T23:59:31.465809Z",
     "iopub.status.busy": "2023-08-04T23:59:31.465387Z",
     "iopub.status.idle": "2023-08-04T23:59:31.503281Z",
     "shell.execute_reply": "2023-08-04T23:59:31.500238Z",
     "shell.execute_reply.started": "2023-08-04T23:59:31.465775Z"
    },
    "tags": []
   },
   "outputs": [],
   "source": [
    "#Open mean household income extended from Gapminder\n",
    "df = pd.read_csv('mhhinc.csv', index_col=0)"
   ]
  },
  {
   "cell_type": "code",
   "execution_count": 4,
   "id": "69609d65-8402-4b9f-9828-18f1565ae6b5",
   "metadata": {
    "execution": {
     "iopub.execute_input": "2023-08-04T23:59:35.925845Z",
     "iopub.status.busy": "2023-08-04T23:59:35.925418Z",
     "iopub.status.idle": "2023-08-04T23:59:35.953599Z",
     "shell.execute_reply": "2023-08-04T23:59:35.952674Z",
     "shell.execute_reply.started": "2023-08-04T23:59:35.925810Z"
    },
    "tags": []
   },
   "outputs": [
    {
     "name": "stdout",
     "output_type": "stream",
     "text": [
      "<class 'pandas.core.frame.DataFrame'>\n",
      "Index: 189 entries, Afghanistan to Zimbabwe\n",
      "Columns: 301 entries, 1800 to 2100\n",
      "dtypes: int64(152), object(149)\n",
      "memory usage: 445.9+ KB\n"
     ]
    }
   ],
   "source": [
    "df.info()"
   ]
  },
  {
   "cell_type": "code",
   "execution_count": 5,
   "id": "82e7ae7e-1556-4ecc-b707-c23058630b80",
   "metadata": {
    "execution": {
     "iopub.execute_input": "2023-08-04T23:59:37.968406Z",
     "iopub.status.busy": "2023-08-04T23:59:37.968016Z",
     "iopub.status.idle": "2023-08-04T23:59:37.995157Z",
     "shell.execute_reply": "2023-08-04T23:59:37.994517Z",
     "shell.execute_reply.started": "2023-08-04T23:59:37.968376Z"
    },
    "tags": []
   },
   "outputs": [
    {
     "data": {
      "text/html": [
       "<div>\n",
       "<style scoped>\n",
       "    .dataframe tbody tr th:only-of-type {\n",
       "        vertical-align: middle;\n",
       "    }\n",
       "\n",
       "    .dataframe tbody tr th {\n",
       "        vertical-align: top;\n",
       "    }\n",
       "\n",
       "    .dataframe thead th {\n",
       "        text-align: right;\n",
       "    }\n",
       "</style>\n",
       "<table border=\"1\" class=\"dataframe\">\n",
       "  <thead>\n",
       "    <tr style=\"text-align: right;\">\n",
       "      <th></th>\n",
       "      <th>1800</th>\n",
       "      <th>1801</th>\n",
       "      <th>1802</th>\n",
       "      <th>1803</th>\n",
       "      <th>1804</th>\n",
       "      <th>1805</th>\n",
       "      <th>1806</th>\n",
       "      <th>1807</th>\n",
       "      <th>1808</th>\n",
       "      <th>1809</th>\n",
       "      <th>...</th>\n",
       "      <th>2091</th>\n",
       "      <th>2092</th>\n",
       "      <th>2093</th>\n",
       "      <th>2094</th>\n",
       "      <th>2095</th>\n",
       "      <th>2096</th>\n",
       "      <th>2097</th>\n",
       "      <th>2098</th>\n",
       "      <th>2099</th>\n",
       "      <th>2100</th>\n",
       "    </tr>\n",
       "    <tr>\n",
       "      <th>country</th>\n",
       "      <th></th>\n",
       "      <th></th>\n",
       "      <th></th>\n",
       "      <th></th>\n",
       "      <th></th>\n",
       "      <th></th>\n",
       "      <th></th>\n",
       "      <th></th>\n",
       "      <th></th>\n",
       "      <th></th>\n",
       "      <th></th>\n",
       "      <th></th>\n",
       "      <th></th>\n",
       "      <th></th>\n",
       "      <th></th>\n",
       "      <th></th>\n",
       "      <th></th>\n",
       "      <th></th>\n",
       "      <th></th>\n",
       "      <th></th>\n",
       "      <th></th>\n",
       "    </tr>\n",
       "  </thead>\n",
       "  <tbody>\n",
       "    <tr>\n",
       "      <th>Afghanistan</th>\n",
       "      <td>456</td>\n",
       "      <td>477</td>\n",
       "      <td>499</td>\n",
       "      <td>522</td>\n",
       "      <td>546</td>\n",
       "      <td>571</td>\n",
       "      <td>571</td>\n",
       "      <td>571</td>\n",
       "      <td>571</td>\n",
       "      <td>571</td>\n",
       "      <td>...</td>\n",
       "      <td>8500</td>\n",
       "      <td>8680</td>\n",
       "      <td>8870</td>\n",
       "      <td>9060</td>\n",
       "      <td>9250</td>\n",
       "      <td>9450</td>\n",
       "      <td>9660</td>\n",
       "      <td>9860</td>\n",
       "      <td>10.1k</td>\n",
       "      <td>10.3k</td>\n",
       "    </tr>\n",
       "    <tr>\n",
       "      <th>Angola</th>\n",
       "      <td>150</td>\n",
       "      <td>151</td>\n",
       "      <td>152</td>\n",
       "      <td>153</td>\n",
       "      <td>154</td>\n",
       "      <td>153</td>\n",
       "      <td>154</td>\n",
       "      <td>155</td>\n",
       "      <td>156</td>\n",
       "      <td>157</td>\n",
       "      <td>...</td>\n",
       "      <td>5890</td>\n",
       "      <td>6020</td>\n",
       "      <td>6150</td>\n",
       "      <td>6280</td>\n",
       "      <td>6410</td>\n",
       "      <td>6550</td>\n",
       "      <td>6690</td>\n",
       "      <td>6840</td>\n",
       "      <td>6980</td>\n",
       "      <td>7130</td>\n",
       "    </tr>\n",
       "    <tr>\n",
       "      <th>Albania</th>\n",
       "      <td>332</td>\n",
       "      <td>332</td>\n",
       "      <td>332</td>\n",
       "      <td>332</td>\n",
       "      <td>332</td>\n",
       "      <td>332</td>\n",
       "      <td>332</td>\n",
       "      <td>332</td>\n",
       "      <td>332</td>\n",
       "      <td>332</td>\n",
       "      <td>...</td>\n",
       "      <td>17.2k</td>\n",
       "      <td>17.6k</td>\n",
       "      <td>18k</td>\n",
       "      <td>18.4k</td>\n",
       "      <td>18.8k</td>\n",
       "      <td>19.2k</td>\n",
       "      <td>19.6k</td>\n",
       "      <td>20k</td>\n",
       "      <td>20.4k</td>\n",
       "      <td>20.9k</td>\n",
       "    </tr>\n",
       "    <tr>\n",
       "      <th>UAE</th>\n",
       "      <td>476</td>\n",
       "      <td>500</td>\n",
       "      <td>525</td>\n",
       "      <td>551</td>\n",
       "      <td>578</td>\n",
       "      <td>606</td>\n",
       "      <td>608</td>\n",
       "      <td>610</td>\n",
       "      <td>612</td>\n",
       "      <td>614</td>\n",
       "      <td>...</td>\n",
       "      <td>150k</td>\n",
       "      <td>153k</td>\n",
       "      <td>156k</td>\n",
       "      <td>159k</td>\n",
       "      <td>163k</td>\n",
       "      <td>166k</td>\n",
       "      <td>170k</td>\n",
       "      <td>174k</td>\n",
       "      <td>177k</td>\n",
       "      <td>181k</td>\n",
       "    </tr>\n",
       "    <tr>\n",
       "      <th>Argentina</th>\n",
       "      <td>714</td>\n",
       "      <td>747</td>\n",
       "      <td>781</td>\n",
       "      <td>817</td>\n",
       "      <td>854</td>\n",
       "      <td>893</td>\n",
       "      <td>893</td>\n",
       "      <td>893</td>\n",
       "      <td>893</td>\n",
       "      <td>893</td>\n",
       "      <td>...</td>\n",
       "      <td>52.4k</td>\n",
       "      <td>53.6k</td>\n",
       "      <td>54.7k</td>\n",
       "      <td>55.9k</td>\n",
       "      <td>57.1k</td>\n",
       "      <td>58.3k</td>\n",
       "      <td>59.6k</td>\n",
       "      <td>60.9k</td>\n",
       "      <td>62.2k</td>\n",
       "      <td>63.5k</td>\n",
       "    </tr>\n",
       "  </tbody>\n",
       "</table>\n",
       "<p>5 rows × 301 columns</p>\n",
       "</div>"
      ],
      "text/plain": [
       "             1800  1801  1802  1803  1804  1805  1806  1807  1808  1809  ...  \\\n",
       "country                                                                  ...   \n",
       "Afghanistan   456   477   499   522   546   571   571   571   571   571  ...   \n",
       "Angola        150   151   152   153   154   153   154   155   156   157  ...   \n",
       "Albania       332   332   332   332   332   332   332   332   332   332  ...   \n",
       "UAE           476   500   525   551   578   606   608   610   612   614  ...   \n",
       "Argentina     714   747   781   817   854   893   893   893   893   893  ...   \n",
       "\n",
       "              2091   2092   2093   2094   2095   2096   2097   2098   2099  \\\n",
       "country                                                                      \n",
       "Afghanistan   8500   8680   8870   9060   9250   9450   9660   9860  10.1k   \n",
       "Angola        5890   6020   6150   6280   6410   6550   6690   6840   6980   \n",
       "Albania      17.2k  17.6k    18k  18.4k  18.8k  19.2k  19.6k    20k  20.4k   \n",
       "UAE           150k   153k   156k   159k   163k   166k   170k   174k   177k   \n",
       "Argentina    52.4k  53.6k  54.7k  55.9k  57.1k  58.3k  59.6k  60.9k  62.2k   \n",
       "\n",
       "              2100  \n",
       "country             \n",
       "Afghanistan  10.3k  \n",
       "Angola        7130  \n",
       "Albania      20.9k  \n",
       "UAE           181k  \n",
       "Argentina    63.5k  \n",
       "\n",
       "[5 rows x 301 columns]"
      ]
     },
     "execution_count": 5,
     "metadata": {},
     "output_type": "execute_result"
    }
   ],
   "source": [
    "df.head()\n",
    "# Is this projected data, because it goes beyond current year?\n",
    "# This is not the right dataset, \n",
    "# but I could answer a similar question of how inequal the countries of the world are from this dataset\n",
    "# which is exactly what I will do, since this is just practice\n",
    "# But this kind of work is how I add value. Not just for me, but for society. I may not be of ka level but\n",
    "# I do learn fast... even in a vacuum, and pretty darn well for my circumstances.  Imagine if I actually had\n",
    "# a positive learning environ (this room is great tho)"
   ]
  },
  {
   "cell_type": "code",
   "execution_count": 27,
   "id": "9ed1e4a7-619d-4a3b-8bd6-d5199b82c799",
   "metadata": {
    "execution": {
     "iopub.execute_input": "2023-08-05T00:29:16.222117Z",
     "iopub.status.busy": "2023-08-05T00:29:16.221742Z",
     "iopub.status.idle": "2023-08-05T00:29:16.230123Z",
     "shell.execute_reply": "2023-08-05T00:29:16.229231Z",
     "shell.execute_reply.started": "2023-08-05T00:29:16.222090Z"
    },
    "tags": []
   },
   "outputs": [
    {
     "data": {
      "text/plain": [
       "country\n",
       "Gabon             58\n",
       "Eswatini          58\n",
       "Qatar            116\n",
       "Botswana         116\n",
       "Turkmenistan     120\n",
       "                ... \n",
       "USA             1720\n",
       "Netherlands     1840\n",
       "UK              2090\n",
       "Palestine       2150\n",
       "Uruguay         2250\n",
       "Name: 1850, Length: 189, dtype: int64"
      ]
     },
     "execution_count": 27,
     "metadata": {},
     "output_type": "execute_result"
    }
   ],
   "source": [
    "# Select column for array\n",
    "A = df[\"1850\"];\n",
    "A.sort_values()\n",
    "#A = pd.Series(A).array"
   ]
  },
  {
   "cell_type": "code",
   "execution_count": 28,
   "id": "3c01d143-8da8-4a62-9a5d-64a1d46992c7",
   "metadata": {
    "execution": {
     "iopub.execute_input": "2023-08-05T00:30:07.964206Z",
     "iopub.status.busy": "2023-08-05T00:30:07.963819Z",
     "iopub.status.idle": "2023-08-05T00:30:07.969021Z",
     "shell.execute_reply": "2023-08-05T00:30:07.967965Z",
     "shell.execute_reply.started": "2023-08-05T00:30:07.964179Z"
    },
    "tags": []
   },
   "outputs": [
    {
     "name": "stdout",
     "output_type": "stream",
     "text": [
      "189\n"
     ]
    }
   ],
   "source": [
    "n = len(A);\n",
    "print(n)"
   ]
  },
  {
   "cell_type": "code",
   "execution_count": 43,
   "id": "87b13858-ad08-40a7-b5c6-ad15f50c4c1e",
   "metadata": {
    "execution": {
     "iopub.execute_input": "2023-08-05T00:53:50.865135Z",
     "iopub.status.busy": "2023-08-05T00:53:50.864735Z",
     "iopub.status.idle": "2023-08-05T00:53:50.870208Z",
     "shell.execute_reply": "2023-08-05T00:53:50.869280Z",
     "shell.execute_reply.started": "2023-08-05T00:53:50.865105Z"
    },
    "tags": []
   },
   "outputs": [],
   "source": [
    "# Gini function passed pre-sorted series (not sure why the sorting would be necessary anyway)\n",
    "def gini(x):\n",
    "    n = len(x)\n",
    "    coef_ = 2. / n\n",
    "    const_ = (n + 1.) / n\n",
    "    weighted_sum = sum([(i+1)*yi for i, yi in enumerate(x)])\n",
    "    print (n)\n",
    "    print (coef_)\n",
    "    print(const_)\n",
    "    print(weighted_sum)\n",
    "    print(coef_*weighted_sum/(x.sum()) - const_)\n",
    "    return coef_*weighted_sum/(x.sum()) - const_\n",
    "    "
   ]
  },
  {
   "cell_type": "code",
   "execution_count": 44,
   "id": "7103c076-c678-46b1-a859-941bbe36eb89",
   "metadata": {
    "execution": {
     "iopub.execute_input": "2023-08-05T00:53:54.663849Z",
     "iopub.status.busy": "2023-08-05T00:53:54.663415Z",
     "iopub.status.idle": "2023-08-05T00:53:54.670036Z",
     "shell.execute_reply": "2023-08-05T00:53:54.669093Z",
     "shell.execute_reply.started": "2023-08-05T00:53:54.663820Z"
    },
    "tags": []
   },
   "outputs": [
    {
     "name": "stdout",
     "output_type": "stream",
     "text": [
      "189\n",
      "0.010582010582010581\n",
      "1.0052910052910053\n",
      "9864784\n",
      "-0.038123886085121406\n"
     ]
    },
    {
     "data": {
      "text/plain": [
       "-0.038123886085121406"
      ]
     },
     "execution_count": 44,
     "metadata": {},
     "output_type": "execute_result"
    }
   ],
   "source": [
    "gini(A)"
   ]
  },
  {
   "cell_type": "code",
   "execution_count": 25,
   "id": "a229e9f4-c9eb-42d7-adae-e0ac358fb773",
   "metadata": {
    "execution": {
     "iopub.execute_input": "2023-08-05T00:27:33.424131Z",
     "iopub.status.busy": "2023-08-05T00:27:33.423696Z",
     "iopub.status.idle": "2023-08-05T00:27:33.428921Z",
     "shell.execute_reply": "2023-08-05T00:27:33.428017Z",
     "shell.execute_reply.started": "2023-08-05T00:27:33.424103Z"
    },
    "tags": []
   },
   "outputs": [],
   "source": [
    "# Finding gini coefficient (Area between curve and line of equality / area under line of equality)\n",
    "# function from zhiyzuo isn't working, but provides framework\n",
    "def gini(arr):\n",
    "    ## first sort\n",
    "    sorted_arr = arr.copy()\n",
    "    sorted_arr.sort()\n",
    "    n = arr.size\n",
    "    coef_ = 2. / n\n",
    "    const_ = (n + 1.) / n\n",
    "    weighted_sum = sum([(i+1)*yi for i, yi in enumerate(sorted_arr)])\n",
    "    return coef_*weighted_sum/(sorted_arr.sum()) - const_"
   ]
  },
  {
   "cell_type": "code",
   "execution_count": 26,
   "id": "5be62685-6eca-45c7-bc2c-5753c56eb429",
   "metadata": {
    "execution": {
     "iopub.execute_input": "2023-08-05T00:27:35.639122Z",
     "iopub.status.busy": "2023-08-05T00:27:35.638577Z",
     "iopub.status.idle": "2023-08-05T00:27:35.665390Z",
     "shell.execute_reply": "2023-08-05T00:27:35.664339Z",
     "shell.execute_reply.started": "2023-08-05T00:27:35.639093Z"
    },
    "tags": []
   },
   "outputs": [
    {
     "ename": "AttributeError",
     "evalue": "'PandasArray' object has no attribute 'sort'",
     "output_type": "error",
     "traceback": [
      "\u001b[0;31m---------------------------------------------------------------------------\u001b[0m",
      "\u001b[0;31mAttributeError\u001b[0m                            Traceback (most recent call last)",
      "Cell \u001b[0;32mIn[26], line 1\u001b[0m\n\u001b[0;32m----> 1\u001b[0m \u001b[43mgini\u001b[49m\u001b[43m(\u001b[49m\u001b[43mA\u001b[49m\u001b[43m)\u001b[49m\n",
      "Cell \u001b[0;32mIn[25], line 6\u001b[0m, in \u001b[0;36mgini\u001b[0;34m(arr)\u001b[0m\n\u001b[1;32m      3\u001b[0m \u001b[38;5;28;01mdef\u001b[39;00m \u001b[38;5;21mgini\u001b[39m(arr):\n\u001b[1;32m      4\u001b[0m     \u001b[38;5;66;03m## first sort\u001b[39;00m\n\u001b[1;32m      5\u001b[0m     sorted_arr \u001b[38;5;241m=\u001b[39m arr\u001b[38;5;241m.\u001b[39mcopy()\n\u001b[0;32m----> 6\u001b[0m     \u001b[43msorted_arr\u001b[49m\u001b[38;5;241;43m.\u001b[39;49m\u001b[43msort\u001b[49m()\n\u001b[1;32m      7\u001b[0m     n \u001b[38;5;241m=\u001b[39m arr\u001b[38;5;241m.\u001b[39msize\n\u001b[1;32m      8\u001b[0m     coef_ \u001b[38;5;241m=\u001b[39m \u001b[38;5;241m2.\u001b[39m \u001b[38;5;241m/\u001b[39m n\n",
      "\u001b[0;31mAttributeError\u001b[0m: 'PandasArray' object has no attribute 'sort'"
     ]
    }
   ],
   "source": [
    "gini(A)"
   ]
  },
  {
   "cell_type": "code",
   "execution_count": 6,
   "id": "c5ca6dda-b555-46bb-9a3c-125d640bd50b",
   "metadata": {
    "execution": {
     "iopub.execute_input": "2023-08-04T23:59:43.013483Z",
     "iopub.status.busy": "2023-08-04T23:59:43.013095Z",
     "iopub.status.idle": "2023-08-04T23:59:43.169257Z",
     "shell.execute_reply": "2023-08-04T23:59:43.168429Z",
     "shell.execute_reply.started": "2023-08-04T23:59:43.013458Z"
    },
    "tags": []
   },
   "outputs": [
    {
     "data": {
      "text/plain": [
       "[<matplotlib.lines.Line2D at 0x7fbe80d26700>]"
      ]
     },
     "execution_count": 6,
     "metadata": {},
     "output_type": "execute_result"
    },
    {
     "data": {
      "image/png": "[encoded data removed]",
      "text/plain": [
       "<Figure size 600x600 with 1 Axes>"
      ]
     },
     "metadata": {},
     "output_type": "display_data"
    }
   ],
   "source": [
    "#plot basics from zhiyzuo\n",
    "fig, ax = plt.subplots(figsize=[6,6])\n",
    "## scatter plot of Lorenz curve\n",
    "#ax.scatter(np.arange(X_lorenz.size)/(X_lorenz.size-1), X_lorenz, \n",
    "#           marker='x', color='darkgreen', s=100)\n",
    "## line plot of equality\n",
    "ax.plot([0,1], [0,1], color='k')"
   ]
  },
  {
   "cell_type": "code",
   "execution_count": 12,
   "id": "32069065-a2e4-4051-9ea4-f04238d7417d",
   "metadata": {
    "execution": {
     "iopub.execute_input": "2023-08-04T23:19:31.968414Z",
     "iopub.status.busy": "2023-08-04T23:19:31.968033Z",
     "iopub.status.idle": "2023-08-04T23:19:31.972070Z",
     "shell.execute_reply": "2023-08-04T23:19:31.971186Z",
     "shell.execute_reply.started": "2023-08-04T23:19:31.968385Z"
    }
   },
   "outputs": [],
   "source": [
    "# This would be great to have a Lorenz curve that changed with the years, with Michele Vallisneri's slider\n",
    "# going to find his slider code now...\n",
    "# interact(plotyear, year=widgets.IntSlider(min=1800, max=2100)\n",
    "\n",
    "#Jupyter Labs Slider Widget Interact"
   ]
  },
  {
   "cell_type": "code",
   "execution_count": 17,
   "id": "fea9b37e-1a69-4b52-830f-0880922dafbc",
   "metadata": {
    "execution": {
     "iopub.execute_input": "2023-08-04T23:35:13.964107Z",
     "iopub.status.busy": "2023-08-04T23:35:13.962623Z",
     "iopub.status.idle": "2023-08-04T23:35:13.971305Z",
     "shell.execute_reply": "2023-08-04T23:35:13.970333Z",
     "shell.execute_reply.started": "2023-08-04T23:35:13.964051Z"
    },
    "tags": []
   },
   "outputs": [],
   "source": [
    "#ipywidgetsversion=7.5.1\n",
    "#conda install jupyterlab=$labversion  -y -c conda-forge\n",
    "#conda install nodejs=$nodejsversion -c conda-forge -y"
   ]
  },
  {
   "cell_type": "code",
   "execution_count": 9,
   "id": "3c9d0eb7-2101-4bd3-90cb-7b61b4a09e4a",
   "metadata": {
    "execution": {
     "iopub.execute_input": "2023-08-04T23:11:41.925100Z",
     "iopub.status.busy": "2023-08-04T23:11:41.924709Z",
     "iopub.status.idle": "2023-08-04T23:11:42.019660Z",
     "shell.execute_reply": "2023-08-04T23:11:42.018992Z",
     "shell.execute_reply.started": "2023-08-04T23:11:41.925073Z"
    }
   },
   "outputs": [],
   "source": [
    "from ipywidgets import interact, interactive, fixed, interact_manual\n",
    "import ipywidgets as widgets"
   ]
  },
  {
   "cell_type": "code",
   "execution_count": 10,
   "id": "399111f0-db3c-41a0-a95c-59ee0523d331",
   "metadata": {
    "execution": {
     "iopub.execute_input": "2023-08-04T23:12:51.061696Z",
     "iopub.status.busy": "2023-08-04T23:12:51.061329Z",
     "iopub.status.idle": "2023-08-04T23:12:51.065759Z",
     "shell.execute_reply": "2023-08-04T23:12:51.064930Z",
     "shell.execute_reply.started": "2023-08-04T23:12:51.061670Z"
    }
   },
   "outputs": [],
   "source": [
    "def f(x):\n",
    "    return x"
   ]
  },
  {
   "cell_type": "code",
   "execution_count": 18,
   "id": "0a8e367d-2e23-4402-8f0f-58ffd45e18f7",
   "metadata": {
    "execution": {
     "iopub.execute_input": "2023-08-04T23:38:44.119222Z",
     "iopub.status.busy": "2023-08-04T23:38:44.118843Z",
     "iopub.status.idle": "2023-08-04T23:38:44.141636Z",
     "shell.execute_reply": "2023-08-04T23:38:44.140877Z",
     "shell.execute_reply.started": "2023-08-04T23:38:44.119193Z"
    },
    "tags": []
   },
   "outputs": [
    {
     "data": {
      "application/vnd.jupyter.widget-view+json": {
       "model_id": "f3449381e39a42f7bdd06a0062363be9",
       "version_major": 2,
       "version_minor": 0
      },
      "text/plain": [
       "interactive(children=(IntSlider(value=10, description='x', max=30, min=-10), Output()), _dom_classes=('widget-…"
      ]
     },
     "metadata": {},
     "output_type": "display_data"
    }
   ],
   "source": [
    "interact(f, x=10);"
   ]
  },
  {
   "cell_type": "code",
   "execution_count": null,
   "id": "0c868f31-d47d-4bee-b336-7ac8101777ba",
   "metadata": {},
   "outputs": [],
   "source": [
    "# Check online Saturn Cloud versions\n",
    "# Python 3.9.15"
   ]
  },
  {
   "cell_type": "code",
   "execution_count": 16,
   "id": "29e8dfe8-eeb0-47d5-8c12-f1aff1589ba2",
   "metadata": {
    "execution": {
     "iopub.execute_input": "2023-08-04T23:32:09.190743Z",
     "iopub.status.busy": "2023-08-04T23:32:09.190367Z",
     "iopub.status.idle": "2023-08-04T23:32:10.223950Z",
     "shell.execute_reply": "2023-08-04T23:32:10.223041Z",
     "shell.execute_reply.started": "2023-08-04T23:32:09.190715Z"
    }
   },
   "outputs": [
    {
     "name": "stdout",
     "output_type": "stream",
     "text": [
      "Known nbextensions:\n",
      "  config dir: /opt/saturncloud/envs/saturn/etc/jupyter/nbconfig\n",
      "    notebook section\n",
      "      voila/extension \u001b[32m enabled \u001b[0m\n",
      "      - Validating: \u001b[32mOK\u001b[0m\n",
      "      jupyter-js-widgets/extension \u001b[32m enabled \u001b[0m\n",
      "      - Validating: \u001b[32mOK\u001b[0m\n"
     ]
    }
   ],
   "source": [
    "!jupyter nbextension list"
   ]
  },
  {
   "cell_type": "code",
   "execution_count": null,
   "id": "170410a9-b121-4508-9aed-224a575b4f37",
   "metadata": {},
   "outputs": [],
   "source": []
  }
 ],
 "metadata": {
  "kernelspec": {
   "display_name": "saturn (Python 3)",
   "language": "python",
   "name": "python3"
  },
  "language_info": {
   "codemirror_mode": {
    "name": "ipython",
    "version": 3
   },
   "file_extension": ".py",
   "mimetype": "text/x-python",
   "name": "python",
   "nbconvert_exporter": "python",
   "pygments_lexer": "ipython3",
   "version": "3.9.15"
  }
 },
 "nbformat": 4,
 "nbformat_minor": 5
}
